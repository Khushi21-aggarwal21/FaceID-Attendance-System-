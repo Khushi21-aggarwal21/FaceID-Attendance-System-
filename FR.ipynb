{
 "cells": [
  {
   "cell_type": "code",
   "execution_count": null,
   "metadata": {},
   "outputs": [],
   "source": [
    "import cv2\n",
    "import pickle\n",
    "import numpy as np\n",
    "import os"
   ]
  },
  {
   "cell_type": "code",
   "execution_count": null,
   "metadata": {},
   "outputs": [],
   "source": [
    "\n",
    "facedetect=cv2.CascadeClassifier('data/haarcascade_frontalface_default.xml')\n",
    "faces_data=[]\n",
    "\n",
    "i=0"
   ]
  },
  {
   "cell_type": "code",
   "execution_count": null,
   "metadata": {},
   "outputs": [],
   "source": [
    "name=input(\"Enter Your Name: \")"
   ]
  },
  {
   "cell_type": "code",
   "execution_count": null,
   "metadata": {},
   "outputs": [],
   "source": [
    "video=cv2.VideoCapture(0)\n",
    "while True:\n",
    "    ret,frame=video.read()\n",
    "    gray=cv2.cvtColor(frame, cv2.COLOR_BGR2GRAY)\n",
    "    faces=facedetect.detectMultiScale(gray, 1.3 ,5)\n",
    "    for (x,y,w,h) in faces:\n",
    "        crop_img=frame[y:y+h, x:x+w, :]\n",
    "        resized_img=cv2.resize(crop_img, (50,50))\n",
    "        if len(faces_data)<=100 and i%10==0:\n",
    "            faces_data.append(resized_img)\n",
    "        i=i+1\n",
    "        cv2.putText(frame, str(len(faces_data)), (50,50), cv2.FONT_HERSHEY_COMPLEX, 1, (50,50,255), 1)\n",
    "        cv2.rectangle(frame, (x,y), (x+w, y+h), (50,50,255), 1)\n",
    "    cv2.imshow(\"Frame\",frame)\n",
    "    k=cv2.waitKey(1)\n",
    "    if k==ord('q') or len(faces_data)==100:\n",
    "        break\n",
    "video.release()\n",
    "cv2.destroyAllWindows()"
   ]
  },
  {
   "cell_type": "code",
   "execution_count": null,
   "metadata": {},
   "outputs": [],
   "source": [
    "video.release()\n",
    "cv2.destroyAllWindows()"
   ]
  },
  {
   "cell_type": "code",
   "execution_count": null,
   "metadata": {},
   "outputs": [],
   "source": [
    "faces_data=np.asarray(faces_data)\n",
    "faces_data=faces_data.reshape(100, -1)\n",
    "\n",
    "\n",
    "if 'names.pkl' not in os.listdir('data/'):\n",
    "    names=[name]*100\n",
    "    with open('data/names.pkl', 'wb') as f:\n",
    "        pickle.dump(names, f)\n",
    "else:\n",
    "    with open('data/names.pkl', 'rb') as f:\n",
    "        names=pickle.load(f)\n",
    "    names=names+[name]*100\n",
    "    with open('data/names.pkl', 'wb') as f:\n",
    "        pickle.dump(names, f)\n",
    "\n",
    "if 'faces_data.pkl' not in os.listdir('data/'):\n",
    "    with open('data/faces_data.pkl', 'wb') as f:\n",
    "        pickle.dump(faces_data, f)\n",
    "else:\n",
    "    with open('data/faces_data.pkl', 'rb') as f:\n",
    "        faces=pickle.load(f)\n",
    "    faces=np.append(faces, faces_data, axis=0)\n",
    "    with open('data/faces_data.pkl', 'wb') as f:\n",
    "        pickle.dump(faces, f)"
   ]
  },
  {
   "cell_type": "code",
   "execution_count": null,
   "metadata": {},
   "outputs": [],
   "source": []
  },
  {
   "cell_type": "code",
   "execution_count": null,
   "metadata": {},
   "outputs": [
    {
     "ename": "",
     "evalue": "",
     "output_type": "error",
     "traceback": [
      "\u001b[1;31mThe kernel failed to start as a dll could not be loaded.\n",
      "\u001b[1;31mClick <a href='https://aka.ms/kernelFailuresDllLoad'>here</a> for more info."
     ]
    }
   ],
   "source": [
    "from sklearn.neighbors import KNeighborsClassifier\n",
    "import cv2\n",
    "import pickle\n",
    "import numpy as np\n",
    "import os\n",
    "import csv\n",
    "import time\n",
    "from datetime import datetime\n",
    "\n",
    "\n",
    "from win32com.client import Dispatch"
   ]
  },
  {
   "cell_type": "code",
   "execution_count": null,
   "metadata": {},
   "outputs": [],
   "source": [
    "def speak(str1):\n",
    "    speak=Dispatch((\"SAPI.SpVoice\"))\n",
    "    speak.Speak(str1)\n"
   ]
  },
  {
   "cell_type": "code",
   "execution_count": null,
   "metadata": {},
   "outputs": [],
   "source": [
    "video=cv2.VideoCapture(0)\n",
    "facedetect=cv2.CascadeClassifier('data/haarcascade_frontalface_default.xml')"
   ]
  },
  {
   "cell_type": "code",
   "execution_count": null,
   "metadata": {},
   "outputs": [],
   "source": [
    "import cv2\n",
    "import pickle\n",
    "\n",
    "facedetect = cv2.CascadeClassifier('data/haarcascade_frontalface_default.xml')\n",
    "\n",
    "with open('data/names.pkl', 'rb') as w:\n",
    "    LABELS = pickle.load(w)\n",
    "\n",
    "with open('data/faces_data.pkl', 'rb') as f:\n",
    "    FACES = pickle.load(f)\n"
   ]
  },
  {
   "cell_type": "code",
   "execution_count": null,
   "metadata": {},
   "outputs": [],
   "source": [
    "import numpy as np\n",
    "from sklearn.neighbors import KNeighborsClassifier\n",
    "\n",
    "# Assuming you have imported the necessary libraries and loaded the FACES and LABELS arrays\n",
    "\n",
    "# Check the number of samples in each array\n",
    "num_samples_faces = len(FACES)\n",
    "num_samples_labels = len(LABELS)\n",
    "\n",
    "# Take the minimum number of samples\n",
    "num_samples = min(num_samples_faces, num_samples_labels)\n",
    "\n",
    "# Truncate the arrays to have the same number of samples\n",
    "FACES = FACES[:num_samples]\n",
    "LABELS = LABELS[:num_samples]\n",
    "\n",
    "# Create a KNN classifier object\n",
    "knn = KNeighborsClassifier(n_neighbors=5)  # Specify the number of neighbors to consider (e.g., 3)\n",
    "\n",
    "# Fit the classifier to the truncated training data\n",
    "knn.fit(FACES, LABELS)\n"
   ]
  },
  {
   "cell_type": "code",
   "execution_count": null,
   "metadata": {},
   "outputs": [],
   "source": [
    "import cv2\n",
    "\n",
    "# Assuming you have imported the necessary libraries and have a background image named 'background.jpg'\n",
    "\n",
    "# Load the background image\n",
    "imgBackground = cv2.imread('background.jpg')\n",
    "\n",
    "# Check if the image is loaded successfully\n",
    "if imgBackground is not None:\n",
    "    pass\n",
    "    # Perform further processing with the background image\n",
    "    # For example, you can use it for image blending or background substitution\n",
    "\n",
    "    # Rest of your code goes here, using imgBackground as needed\n",
    "\n",
    "else:\n",
    "    print(\"Failed to load the background image.\")\n",
    "\n",
    "# Make sure to handle any errors or exceptions that may occur during image loading or processing\n",
    "\n"
   ]
  },
  {
   "cell_type": "code",
   "execution_count": null,
   "metadata": {},
   "outputs": [],
   "source": [
    "COL_NAMES = ['NAME', 'TIME']\n",
    "video = cv2.VideoCapture(0)\n",
    "while True:\n",
    "    ret,frame=video.read(0)\n",
    "    gray=cv2.cvtColor(frame, cv2.COLOR_BGR2GRAY)\n",
    "    faces=facedetect.detectMultiScale(gray, 1.3 ,5)\n",
    "    for (x,y,w,h) in faces:\n",
    "        crop_img=frame[y:y+h, x:x+w, :]\n",
    "        resized_img=cv2.resize(crop_img, (50,50)).flatten().reshape(1,-1)\n",
    "        output=knn.predict(resized_img)\n",
    "        ts=time.time()\n",
    "        date=datetime.fromtimestamp(ts).strftime(\"%d-%m-%Y\")\n",
    "        timestamp=datetime.fromtimestamp(ts).strftime(\"%H:%M-%S\")\n",
    "        exist=os.path.isfile(\"Attendance/Attendance_\" + date + \".csv\")\n",
    "        cv2.rectangle(frame, (x,y), (x+w, y+h), (0,0,255), 1)\n",
    "        cv2.rectangle(frame,(x,y),(x+w,y+h),(50,50,255),2)\n",
    "        cv2.rectangle(frame,(x,y-40),(x+w,y),(50,50,255),-1)\n",
    "        cv2.putText(frame, str(output[0]), (x,y-15), cv2.FONT_HERSHEY_COMPLEX, 1, (255,255,255), 1)\n",
    "        cv2.rectangle(frame, (x,y), (x+w, y+h), (50,50,255), 1)\n",
    "        attendance=[str(output[0]), str(timestamp)]\n",
    "    imgBackground[162:162 + 480, 55:55 + 640] = frame\n",
    "    cv2.imshow(\"Frame\",imgBackground)\n",
    "    k=cv2.waitKey(1)\n",
    "    if k==ord('o'):\n",
    "        speak(\"Attendance Taken..\")\n",
    "        time.sleep(5)\n",
    "        if exist:\n",
    "            with open(\"Attendance/Attendance_\" + date + \".csv\", \"+a\") as csvfile:\n",
    "                writer=csv.writer(csvfile)\n",
    "                writer.writerow(attendance)\n",
    "            csvfile.close()\n",
    "        else:\n",
    "            with open(\"Attendance/Attendance_\" + date + \".csv\", \"+a\") as csvfile:\n",
    "                writer=csv.writer(csvfile)\n",
    "                writer.writerow(COL_NAMES)\n",
    "                writer.writerow(attendance)\n",
    "            csvfile.close()\n",
    "    if k==ord('q'):\n",
    "        break\n",
    "video.release()\n",
    "cv2.destroyAllWindows()"
   ]
  }
 ],
 "metadata": {
  "kernelspec": {
   "display_name": "Python 3.9.12 ('base')",
   "language": "python",
   "name": "python3"
  },
  "language_info": {
   "codemirror_mode": {
    "name": "ipython",
    "version": 3
   },
   "file_extension": ".py",
   "mimetype": "text/x-python",
   "name": "python",
   "nbconvert_exporter": "python",
   "pygments_lexer": "ipython3",
   "version": "3.9.12"
  },
  "orig_nbformat": 4,
  "vscode": {
   "interpreter": {
    "hash": "88279d2366fe020547cde40dd65aa0e3aa662a6ec1f3ca12d88834876c85e1a6"
   }
  }
 },
 "nbformat": 4,
 "nbformat_minor": 2
}
